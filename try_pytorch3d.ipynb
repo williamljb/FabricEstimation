{
 "cells": [
  {
   "cell_type": "code",
   "execution_count": 33,
   "metadata": {},
   "outputs": [],
   "source": [
    "import pytorch3d\n",
    "from pytorch3d import io\n",
    "from pytorch3d import ops\n",
    "import glob\n",
    "import torch"
   ]
  },
  {
   "cell_type": "code",
   "execution_count": 34,
   "metadata": {},
   "outputs": [
    {
     "name": "stdout",
     "output_type": "stream",
     "text": [
      "<pytorch3d.structures.meshes.Meshes object at 0x7ff89c35ab00>\n"
     ]
    }
   ],
   "source": [
    "mesh = io.load_objs_as_meshes(glob.glob('four*.obj'))\n",
    "print(mesh)"
   ]
  },
  {
   "cell_type": "code",
   "execution_count": 35,
   "metadata": {},
   "outputs": [
    {
     "name": "stdout",
     "output_type": "stream",
     "text": [
      "[tensor([[0., 0., 0.],\n",
      "        [2., 0., 0.],\n",
      "        [1., 2., 0.],\n",
      "        [1., 1., 1.]]), tensor([[10.,  0.,  0.],\n",
      "        [12.,  0.,  0.],\n",
      "        [11.,  2.,  0.],\n",
      "        [11.,  1.,  1.]])]\n",
      "(tensor([[-0.8165, -0.4082, -0.4082],\n",
      "        [ 0.8165, -0.4082, -0.4082],\n",
      "        [ 0.0000,  0.7071, -0.7071],\n",
      "        [ 0.0000,  0.0000,  1.0000]]), tensor([[-0.8165, -0.4082, -0.4082],\n",
      "        [ 0.8165, -0.4082, -0.4082],\n",
      "        [ 0.0000,  0.7071, -0.7071],\n",
      "        [ 0.0000,  0.0000,  1.0000]]))\n"
     ]
    }
   ],
   "source": [
    "\n",
    "print(mesh.verts_list())\n",
    "print(mesh.verts_normals_list())\n"
   ]
  },
  {
   "cell_type": "code",
   "execution_count": 37,
   "metadata": {},
   "outputs": [
    {
     "name": "stdout",
     "output_type": "stream",
     "text": [
      "torch.Size([20, 3])\n",
      "torch.Size([2, 10, 3])\n"
     ]
    }
   ],
   "source": [
    "pts, nms = ops.sample_points_from_meshes(mesh, 10, return_normals=True)\n",
    "print(pts.reshape([-1,3]).shape)\n",
    "print(nms.shape)"
   ]
  },
  {
   "cell_type": "code",
   "execution_count": null,
   "metadata": {},
   "outputs": [],
   "source": []
  }
 ],
 "metadata": {
  "kernelspec": {
   "display_name": "Python 3",
   "language": "python",
   "name": "python3"
  },
  "language_info": {
   "codemirror_mode": {
    "name": "ipython",
    "version": 3
   },
   "file_extension": ".py",
   "mimetype": "text/x-python",
   "name": "python",
   "nbconvert_exporter": "python",
   "pygments_lexer": "ipython3",
   "version": "3.6.4"
  }
 },
 "nbformat": 4,
 "nbformat_minor": 4
}
